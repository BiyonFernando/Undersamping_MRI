{
 "cells": [
  {
   "cell_type": "code",
   "execution_count": 1,
   "metadata": {},
   "outputs": [
    {
     "name": "stdout",
     "output_type": "stream",
     "text": [
      "True\n",
      "2\n",
      "cuda:1\n",
      "2\n"
     ]
    }
   ],
   "source": [
    "import torch\n",
    "print(torch.cuda.is_available())\n",
    "print(torch.cuda.device_count())\n",
    "device = torch.device('cuda:1') if torch.cuda.is_available() else torch.device('cpu')\n",
    "print(device)\n",
    "print(torch.cuda.device_count())"
   ]
  },
  {
   "cell_type": "code",
   "execution_count": 2,
   "metadata": {},
   "outputs": [
    {
     "name": "stdout",
     "output_type": "stream",
     "text": [
      "['/home/avishka/biyon/Undersamping_MRI/Cuda_code/IGS/notebooks/acdc', '/home/avishka/anaconda3/envs/wm/lib/python310.zip', '/home/avishka/anaconda3/envs/wm/lib/python3.10', '/home/avishka/anaconda3/envs/wm/lib/python3.10/lib-dynload', '', '/home/avishka/anaconda3/envs/wm/lib/python3.10/site-packages']\n"
     ]
    },
    {
     "name": "stderr",
     "output_type": "stream",
     "text": [
      "/home/avishka/anaconda3/envs/wm/lib/python3.10/site-packages/scipy/__init__.py:146: UserWarning: A NumPy version >=1.16.5 and <1.23.0 is required for this version of SciPy (detected version 1.24.4\n",
      "  warnings.warn(f\"A NumPy version >={np_minversion} and <{np_maxversion}\"\n",
      "2023-12-10 11:49:49.335420: I tensorflow/core/util/port.cc:113] oneDNN custom operations are on. You may see slightly different numerical results due to floating-point round-off errors from different computation orders. To turn them off, set the environment variable `TF_ENABLE_ONEDNN_OPTS=0`.\n",
      "2023-12-10 11:49:49.338329: I external/local_tsl/tsl/cuda/cudart_stub.cc:31] Could not find cuda drivers on your machine, GPU will not be used.\n",
      "2023-12-10 11:49:49.378856: E external/local_xla/xla/stream_executor/cuda/cuda_dnn.cc:9261] Unable to register cuDNN factory: Attempting to register factory for plugin cuDNN when one has already been registered\n",
      "2023-12-10 11:49:49.378878: E external/local_xla/xla/stream_executor/cuda/cuda_fft.cc:607] Unable to register cuFFT factory: Attempting to register factory for plugin cuFFT when one has already been registered\n",
      "2023-12-10 11:49:49.379844: E external/local_xla/xla/stream_executor/cuda/cuda_blas.cc:1515] Unable to register cuBLAS factory: Attempting to register factory for plugin cuBLAS when one has already been registered\n",
      "2023-12-10 11:49:49.387113: I tensorflow/core/platform/cpu_feature_guard.cc:182] This TensorFlow binary is optimized to use available CPU instructions in performance-critical operations.\n",
      "To enable the following instructions: AVX2 AVX512F AVX512_VNNI FMA, in other operations, rebuild TensorFlow with the appropriate compiler flags.\n",
      "2023-12-10 11:49:50.300050: W tensorflow/compiler/tf2tensorrt/utils/py_utils.cc:38] TF-TRT Warning: Could not find TensorRT\n"
     ]
    },
    {
     "name": "stdout",
     "output_type": "stream",
     "text": [
      "['/home/avishka/biyon/Undersamping_MRI/Cuda_code/IGS/notebooks/acdc', '/home/avishka/anaconda3/envs/wm/lib/python310.zip', '/home/avishka/anaconda3/envs/wm/lib/python3.10', '/home/avishka/anaconda3/envs/wm/lib/python3.10/lib-dynload', '', '/home/avishka/anaconda3/envs/wm/lib/python3.10/site-packages', '/home/avishka/biyon/Undersamping_MRI/CPU_code/IGS']\n",
      "['/home/avishka/biyon/Undersamping_MRI/Cuda_code/IGS/notebooks/acdc', '/home/avishka/anaconda3/envs/wm/lib/python310.zip', '/home/avishka/anaconda3/envs/wm/lib/python3.10', '/home/avishka/anaconda3/envs/wm/lib/python3.10/lib-dynload', '', '/home/avishka/anaconda3/envs/wm/lib/python3.10/site-packages', '/home/avishka/biyon/Undersamping_MRI/CPU_code/IGS', '/home/avishka/biyon/Undersamping_MRI/CPU_code/IGS']\n"
     ]
    }
   ],
   "source": [
    "# %env CUDA_VISIBLE_DEVICES=3\n",
    "import sys\n",
    "print(sys.path)\n",
    "sys.path.append('/home/avishka/biyon/Undersamping_MRI/CPU_code/IGS' )\n",
    "# sys.path.append('/home/a_razumov/projects/k-space-mri')\n",
    "import numpy as np\n",
    "import pylab as plt\n",
    "import pickle\n",
    "from tqdm.notebook import tqdm\n",
    "\n",
    "import torch\n",
    "import torch.nn.functional as F\n",
    "\n",
    "from k_space_reconstruction.utils.metrics import pt_msssim, pt_ssim\n",
    "from k_space_reconstruction.datasets.acdc import ACDCSet, ACDCTransform, RandomMaskFunc\n",
    "from k_space_reconstruction.datasets.fastmri import FastMRIh5Dataset, FastMRITransform, LegacyFastMRIh5Dataset\n",
    "from k_space_reconstruction.utils.kspace import EquispacedMaskFunc, RandomMaskFunc\n",
    "from k_space_reconstruction.utils.kspace import pt_spatial2kspace as Ft\n",
    "from k_space_reconstruction.utils.kspace import pt_kspace2spatial as IFt\n",
    "\n",
    "import os\n",
    "import sys\n",
    "from k_space_reconstruction.nets.unet import Unet\n",
    "from k_space_reconstruction.nets.enet import ENet\n",
    "from k_space_reconstruction.nets.mwcnn import MWCNN\n",
    "import datetime\n",
    "import torch\n",
    "import torchvision\n",
    "import numpy as np\n",
    "import pylab as plt\n",
    "plt.style.use('bmh')\n",
    "import albumentations\n",
    "import numpy as np\n",
    "import h5py\n",
    "import pylab as plt\n",
    "import torch\n",
    "import torch.nn.functional as F\n",
    "\n",
    "import os\n",
    "import re\n",
    "import numpy as np\n",
    "import pandas as pd\n",
    "import nibabel\n",
    "\n",
    "import torch\n",
    "import torch.utils.data\n",
    "import torchvision.transforms as transforms\n",
    "\n",
    "from os.path import isdir, join\n",
    "from typing import Callable, Dict, List, Any"
   ]
  },
  {
   "cell_type": "code",
   "execution_count": 28,
   "metadata": {},
   "outputs": [],
   "source": [
    "fig_bezzeless = lambda nc, nr : plt.subplots(ncols=nc, nrows=nr, figsize=(4 * nc, 4), dpi=120, \n",
    "                                             subplot_kw=dict(frameon=False, xticks=[], yticks=[]), \n",
    "                                             gridspec_kw=dict(wspace=0.0, hspace=0.0))\n",
    "\n",
    "\n",
    "def ce_loss(true, logits, weights, ignore=255):\n",
    "    torch.nn.CrossEntropyLoss\n",
    "    ce_loss = torch.nn.functional.cross_entropy(\n",
    "        logits.float(),\n",
    "        true.long(),\n",
    "        ignore_index=ignore,\n",
    "        weight=weights,\n",
    "    )\n",
    "    return ce_loss\n",
    "\n",
    "\n",
    "def dice_loss(true, logits, eps=1e-7):\n",
    "    num_classes = logits.shape[1]\n",
    "    if num_classes == 1:\n",
    "        true_1_hot = torch.eye(num_classes + 1)[true.squeeze(1)]\n",
    "        true_1_hot = true_1_hot.permute(0, 3, 1, 2).float()\n",
    "        true_1_hot_f = true_1_hot[:, 0:1, :, :]\n",
    "        true_1_hot_s = true_1_hot[:, 1:2, :, :]\n",
    "        true_1_hot = torch.cat([true_1_hot_s, true_1_hot_f], dim=1)\n",
    "        pos_prob = torch.sigmoid(logits)\n",
    "        neg_prob = 1 - pos_prob\n",
    "        probas = torch.cat([pos_prob, neg_prob], dim=1)\n",
    "    else:\n",
    "        true_1_hot = torch.eye(num_classes, device=true.device)[true.squeeze(1)]\n",
    "        true_1_hot = true_1_hot.permute(0, 3, 1, 2).float()\n",
    "        probas = torch.nn.functional.softmax(logits, dim=1)\n",
    "    true_1_hot = true_1_hot.type(logits.type())\n",
    "    dims = (0,) + tuple(range(2, true.ndimension()))\n",
    "    intersection = torch.sum(probas * true_1_hot, dims)\n",
    "    cardinality = torch.sum(probas + true_1_hot, dims)\n",
    "    dice_loss = (2. * intersection / (cardinality + eps)).mean()\n",
    "    return (1 - dice_loss)\n",
    "\n",
    "def dice_coeffs(true, logits):\n",
    "    num_classes = logits.shape[1]\n",
    "    probas = F.softmax(logits, dim=1)\n",
    "    probas[probas > 0.5] = 1; probas[probas <= 0.5] = 0\n",
    "    pmask = torch.zeros_like(true).float()\n",
    "    for i in range(1, num_classes):\n",
    "        pmask[:,0] += i * probas[:,i]\n",
    "    dice_ls = []\n",
    "    for i in range(1, num_classes):\n",
    "        yt = (true==i).float().flatten()\n",
    "        yp = (pmask==i).float().flatten()\n",
    "        intersection = torch.sum(yt * yp)\n",
    "        cardinality = torch.sum(yt + yp)\n",
    "        dice_ls.append((2. * intersection / (cardinality + 1e-7)).item())\n",
    "    return dice_ls        \n",
    "\n",
    "def train_sampling_pattern(train_generator, model, n=14):\n",
    "    c, bmasks, images, bmean, bstd = next(iter(train_generator))\n",
    "    bks = Ft(images * bstd + bmean)\n",
    "    bgt = IFt(bks).abs()\n",
    "    w = torch.zeros(256).to(device).float()\n",
    "    w[128] = 1\n",
    "    bbatch = 32\n",
    "    w_list = []\n",
    "    pbar = tqdm(range(n))\n",
    "    for count in pbar:\n",
    "        w = torch.autograd.Variable(w, requires_grad=True)\n",
    "        for j in range(bks.shape[0] // bbatch):\n",
    "            bbks = bks[bbatch*j:bbatch*(j+1)].to(device)\n",
    "            bbgt = bgt[bbatch*j:bbatch*(j+1)].to(device)\n",
    "            bbmean = bmean[bbatch*j:bbatch*(j+1)].to(device)\n",
    "            bbstd = bstd[bbatch*j:bbatch*(j+1)].to(device)\n",
    "            bbmasks = bmasks[bbatch*j:bbatch*(j+1)].to(device)\n",
    "            recs = IFt(bbks * w).abs().to(device)\n",
    "            pm = model((recs - bbmean) / (bbstd + 1e-11))\n",
    "            loss = dice_loss(bbmasks.long(), pm)\n",
    "            loss.backward()\n",
    "        for i in torch.topk(w.grad, 256, largest=False).indices:\n",
    "            if w[i] == 0: \n",
    "                w = w.detach()\n",
    "                w[i] = 1.\n",
    "                w_list.append(w.clone())\n",
    "                pbar.set_description('select: %d, loss: %.6f' % (i.item(), loss.item()))\n",
    "                break\n",
    "    return w_list\n",
    "\n",
    "def test_sampling_pattern(sampling, model, val_generator):\n",
    "    vc, vbmasks, vimages, vbmean, vbstd = next(iter(val_generator))\n",
    "    vbks = Ft(vimages * vbstd + vbmean)\n",
    "    vbgt = IFt(vbks).abs()\n",
    "    dice_scores = []\n",
    "    bbatch = 1\n",
    "    for j in tqdm(range(vbks.shape[0] // bbatch)):\n",
    "        vbbks = vbks[bbatch*j:bbatch*(j+1)].to(device)\n",
    "        vbbgt = vbgt[bbatch*j:bbatch*(j+1)].to(device)\n",
    "        vbbmean = vbmean[bbatch*j:bbatch*(j+1)].to(device)\n",
    "        vbbstd = vbstd[bbatch*j:bbatch*(j+1)].to(device)\n",
    "        vbbmasks = vbmasks[bbatch*j:bbatch*(j+1)].to(device)\n",
    "        with torch.no_grad():\n",
    "            # igs\n",
    "            # sampling = sampling.to(device)\n",
    "            recs = IFt(vbbks * sampling).abs()\n",
    "            pm = model((recs - vbbmean) / (vbbstd + 1e-11))\n",
    "            # print(recs.shape)\n",
    "            for i in range(recs.shape[0]):\n",
    "                dice_scores.append(1 - dice_loss(vbbmasks.long(), pm).item())\n",
    "    return dice_scores\n",
    "\n",
    "def test_on_classes_sampling_pattern(sampling, model, val_generator):\n",
    "    vc, vbmasks, vimages, vbmean, vbstd = next(iter(val_generator))\n",
    "    vbks = Ft(vimages * vbstd + vbmean)\n",
    "    vbgt = IFt(vbks).abs()\n",
    "    dice_scores = []\n",
    "    bbatch = 1\n",
    "    for j in tqdm(range(vbks.shape[0] // bbatch)):\n",
    "        vbbks = vbks[bbatch*j:bbatch*(j+1)].to(device)\n",
    "        vbbgt = vbgt[bbatch*j:bbatch*(j+1)].to(device)\n",
    "        vbbmean = vbmean[bbatch*j:bbatch*(j+1)].to(device)\n",
    "        vbbstd = vbstd[bbatch*j:bbatch*(j+1)].to(device)\n",
    "        vbbmasks = vbmasks[bbatch*j:bbatch*(j+1)].to(device)\n",
    "        with torch.no_grad():\n",
    "            # igs\n",
    "            recs = IFt(vbbks * sampling).abs()\n",
    "            pm = model((recs - vbbmean) / (vbbstd + 1e-11))\n",
    "            for i in range(recs.shape[0]):\n",
    "                dice_scores.append(dice_coeffs(vbbmasks.long(), pm))\n",
    "    return dice_scores\n",
    "\n",
    "class ACDCDataset(torch.utils.data.Dataset):\n",
    "    CLASSES = {0: 'NOR', 1: 'MINF', 2: 'DCM', 3: 'HCM', 4: 'RV'}\n",
    "\n",
    "    def __init__(self, hf_path: str):\n",
    "        super().__init__()\n",
    "        self.hf = h5py.File(hf_path)\n",
    "\n",
    "    def __len__(self) -> int:\n",
    "        return len(self.hf)\n",
    "\n",
    "    def __getitem__(self, item: int):\n",
    "        # img = self.hf[str(item)][:1]\n",
    "        img = self.hf[str(item)].get('img')\n",
    "        mask = self.hf[str(item)].get('gt')\n",
    "        c = self.hf[str(item)].attrs['class']\n",
    "        img = torch.tensor(img).float()\n",
    "        mask = torch.tensor(mask)\n",
    "        mean = img.mean().unsqueeze(0).unsqueeze(0).unsqueeze(0)\n",
    "        std = img.std().unsqueeze(0).unsqueeze(0).unsqueeze(0)\n",
    "        img = (img - mean) / (std + 1e-11)\n",
    "\n",
    "        # print('mean', mean.shape)\n",
    "        # print('std', std.shape)\n",
    "        return c, mask.unsqueeze(0), img, mean, std"
   ]
  },
  {
   "cell_type": "code",
   "execution_count": 25,
   "metadata": {},
   "outputs": [],
   "source": [
    "def pt_psnr(img1, img2, maxval):\n",
    "    mse = torch.mean((img1 - img2) ** 2)\n",
    "    return 20 * torch.log10(maxval / torch.sqrt(mse))"
   ]
  },
  {
   "cell_type": "code",
   "execution_count": 26,
   "metadata": {},
   "outputs": [],
   "source": [
    "np.random.seed(42)\n",
    "torch.manual_seed(42)\n",
    "train_dataset = ACDCDataset('/home/avishka/biyon/Dataset/Medium/train100.h5')\n",
    "val_dataset = ACDCDataset('/home/avishka/biyon/Dataset/Medium/val50.h5')\n",
    "train_generator = torch.utils.data.DataLoader(train_dataset, batch_size=len(train_dataset), shuffle=True, num_workers=6)\n",
    "val_generator = torch.utils.data.DataLoader(val_dataset, batch_size=len(val_dataset), shuffle=False)"
   ]
  },
  {
   "cell_type": "code",
   "execution_count": 16,
   "metadata": {},
   "outputs": [],
   "source": [
    "import os\n",
    "os.environ['CUDA_LAUNCH_BLOCKING'] = '1'\n",
    "os.environ['TORCH_USE_CUDA_DSA'] = '1'\n"
   ]
  },
  {
   "cell_type": "code",
   "execution_count": 17,
   "metadata": {},
   "outputs": [
    {
     "name": "stdout",
     "output_type": "stream",
     "text": [
      "True\n",
      "2\n",
      "cuda:1\n"
     ]
    },
    {
     "data": {
      "text/plain": [
       "<All keys matched successfully>"
      ]
     },
     "execution_count": 17,
     "metadata": {},
     "output_type": "execute_result"
    }
   ],
   "source": [
    "print(torch.cuda.is_available())\n",
    "print(torch.cuda.device_count())\n",
    "# device = torch.device('cuda:1') if torch.cuda.is_available() else torch.device('cpu')\n",
    "# print(device)\n",
    "\n",
    "model = Unet(1, 3+1).to(device).train().eval()\n",
    "print(device)\n",
    "# for p in model.parameters():\n",
    "#     p.requires_grad = False\n",
    "model.load_state_dict(torch.load('unet-acdc.pt', map_location=device))\n"
   ]
  },
  {
   "cell_type": "markdown",
   "metadata": {},
   "source": [
    "# 5-fold validation x16"
   ]
  },
  {
   "cell_type": "code",
   "execution_count": 29,
   "metadata": {
    "collapsed": true,
    "jupyter": {
     "outputs_hidden": true
    }
   },
   "outputs": [
    {
     "data": {
      "application/vnd.jupyter.widget-view+json": {
       "model_id": "00b54a0b1f5b41a3ae6acd9d977aaba9",
       "version_major": 2,
       "version_minor": 0
      },
      "text/plain": [
       "  0%|          | 0/16 [00:00<?, ?it/s]"
      ]
     },
     "metadata": {},
     "output_type": "display_data"
    },
    {
     "data": {
      "application/vnd.jupyter.widget-view+json": {
       "model_id": "0cb7e77a74bd4c3db9aec1b4c73fb9ee",
       "version_major": 2,
       "version_minor": 0
      },
      "text/plain": [
       "  0%|          | 0/25 [00:00<?, ?it/s]"
      ]
     },
     "metadata": {},
     "output_type": "display_data"
    },
    {
     "data": {
      "application/vnd.jupyter.widget-view+json": {
       "model_id": "8c745f8cf2444c319ebab1c611b79f2a",
       "version_major": 2,
       "version_minor": 0
      },
      "text/plain": [
       "  0%|          | 0/25 [00:00<?, ?it/s]"
      ]
     },
     "metadata": {},
     "output_type": "display_data"
    },
    {
     "data": {
      "application/vnd.jupyter.widget-view+json": {
       "model_id": "7ffaaffa976249daa13764e88766558b",
       "version_major": 2,
       "version_minor": 0
      },
      "text/plain": [
       "  0%|          | 0/25 [00:00<?, ?it/s]"
      ]
     },
     "metadata": {},
     "output_type": "display_data"
    },
    {
     "data": {
      "application/vnd.jupyter.widget-view+json": {
       "model_id": "036594029f1449bdb6870d6f2b3abf68",
       "version_major": 2,
       "version_minor": 0
      },
      "text/plain": [
       "  0%|          | 0/16 [00:00<?, ?it/s]"
      ]
     },
     "metadata": {},
     "output_type": "display_data"
    },
    {
     "data": {
      "application/vnd.jupyter.widget-view+json": {
       "model_id": "d114d0bbe523442db582b9616f62bbc1",
       "version_major": 2,
       "version_minor": 0
      },
      "text/plain": [
       "  0%|          | 0/25 [00:00<?, ?it/s]"
      ]
     },
     "metadata": {},
     "output_type": "display_data"
    },
    {
     "data": {
      "application/vnd.jupyter.widget-view+json": {
       "model_id": "475a309adba043e3ae565c19be0461d9",
       "version_major": 2,
       "version_minor": 0
      },
      "text/plain": [
       "  0%|          | 0/25 [00:00<?, ?it/s]"
      ]
     },
     "metadata": {},
     "output_type": "display_data"
    },
    {
     "data": {
      "application/vnd.jupyter.widget-view+json": {
       "model_id": "7910a65583ed4dbe84b620a20ff62f30",
       "version_major": 2,
       "version_minor": 0
      },
      "text/plain": [
       "  0%|          | 0/25 [00:00<?, ?it/s]"
      ]
     },
     "metadata": {},
     "output_type": "display_data"
    },
    {
     "data": {
      "application/vnd.jupyter.widget-view+json": {
       "model_id": "444c9aeed6ec4a0db0b735b6eb411f4c",
       "version_major": 2,
       "version_minor": 0
      },
      "text/plain": [
       "  0%|          | 0/16 [00:00<?, ?it/s]"
      ]
     },
     "metadata": {},
     "output_type": "display_data"
    },
    {
     "data": {
      "application/vnd.jupyter.widget-view+json": {
       "model_id": "d44e888fefc84fd58d68acc9073d64b5",
       "version_major": 2,
       "version_minor": 0
      },
      "text/plain": [
       "  0%|          | 0/24 [00:00<?, ?it/s]"
      ]
     },
     "metadata": {},
     "output_type": "display_data"
    },
    {
     "data": {
      "application/vnd.jupyter.widget-view+json": {
       "model_id": "af942c07740f4549830bf5822e43e21a",
       "version_major": 2,
       "version_minor": 0
      },
      "text/plain": [
       "  0%|          | 0/24 [00:00<?, ?it/s]"
      ]
     },
     "metadata": {},
     "output_type": "display_data"
    },
    {
     "data": {
      "application/vnd.jupyter.widget-view+json": {
       "model_id": "ca44d358dad74253808e80d8872eeb3f",
       "version_major": 2,
       "version_minor": 0
      },
      "text/plain": [
       "  0%|          | 0/24 [00:00<?, ?it/s]"
      ]
     },
     "metadata": {},
     "output_type": "display_data"
    },
    {
     "data": {
      "application/vnd.jupyter.widget-view+json": {
       "model_id": "6cc3952e5ad84a94bc035619d979d46a",
       "version_major": 2,
       "version_minor": 0
      },
      "text/plain": [
       "  0%|          | 0/16 [00:00<?, ?it/s]"
      ]
     },
     "metadata": {},
     "output_type": "display_data"
    },
    {
     "data": {
      "application/vnd.jupyter.widget-view+json": {
       "model_id": "c0b83a40a6864d6aabf6ae7e0719d05d",
       "version_major": 2,
       "version_minor": 0
      },
      "text/plain": [
       "  0%|          | 0/24 [00:00<?, ?it/s]"
      ]
     },
     "metadata": {},
     "output_type": "display_data"
    },
    {
     "data": {
      "application/vnd.jupyter.widget-view+json": {
       "model_id": "4894322094684f9db830e4ec1ee33c4f",
       "version_major": 2,
       "version_minor": 0
      },
      "text/plain": [
       "  0%|          | 0/24 [00:00<?, ?it/s]"
      ]
     },
     "metadata": {},
     "output_type": "display_data"
    },
    {
     "data": {
      "application/vnd.jupyter.widget-view+json": {
       "model_id": "e538f374dbd04ffea0d864c032aa4c6b",
       "version_major": 2,
       "version_minor": 0
      },
      "text/plain": [
       "  0%|          | 0/24 [00:00<?, ?it/s]"
      ]
     },
     "metadata": {},
     "output_type": "display_data"
    },
    {
     "data": {
      "application/vnd.jupyter.widget-view+json": {
       "model_id": "e8efb742ac34417d9da3892fa97a6d93",
       "version_major": 2,
       "version_minor": 0
      },
      "text/plain": [
       "  0%|          | 0/16 [00:00<?, ?it/s]"
      ]
     },
     "metadata": {},
     "output_type": "display_data"
    },
    {
     "data": {
      "application/vnd.jupyter.widget-view+json": {
       "model_id": "50f9a1ea04514674b8a92370145e3b09",
       "version_major": 2,
       "version_minor": 0
      },
      "text/plain": [
       "  0%|          | 0/24 [00:00<?, ?it/s]"
      ]
     },
     "metadata": {},
     "output_type": "display_data"
    },
    {
     "data": {
      "application/vnd.jupyter.widget-view+json": {
       "model_id": "4f73e9a13eb84980819a18866f29c6a3",
       "version_major": 2,
       "version_minor": 0
      },
      "text/plain": [
       "  0%|          | 0/24 [00:00<?, ?it/s]"
      ]
     },
     "metadata": {},
     "output_type": "display_data"
    },
    {
     "data": {
      "application/vnd.jupyter.widget-view+json": {
       "model_id": "6b8f540eb7834fe39960e96625bc3953",
       "version_major": 2,
       "version_minor": 0
      },
      "text/plain": [
       "  0%|          | 0/24 [00:00<?, ?it/s]"
      ]
     },
     "metadata": {},
     "output_type": "display_data"
    }
   ],
   "source": [
    "from collections import defaultdict\n",
    "from sklearn.model_selection import KFold\n",
    "\n",
    "fastmri_mask_x16 = torch.tensor(EquispacedMaskFunc([0.04], [16])((256, 256))[0]).to(device).float()\n",
    "zm = torch.zeros(256).to(device).float()\n",
    "zm[256//2 - int(16)//2 : 256//2 + int(16)//2] = 1\n",
    "fm = torch.ones(256).to(device).float()\n",
    "\n",
    "dice_fold_scores = defaultdict(dict)\n",
    "\n",
    "for i, (train_id, val_id) in enumerate(KFold(shuffle=False).split(range(len(train_dataset)))):\n",
    "    td = torch.utils.data.Subset(train_dataset, train_id)\n",
    "    vd = torch.utils.data.Subset(train_dataset, val_id)\n",
    "    tg = torch.utils.data.DataLoader(td, batch_size=len(td), shuffle=True)\n",
    "    vg = torch.utils.data.DataLoader(vd, batch_size=len(vd), shuffle=False)\n",
    "    w_list = train_sampling_pattern(tg, model, n=16)\n",
    "    dice_fold_scores[i] = dict(\n",
    "        ours=test_sampling_pattern(w_list[14], model, vg),\n",
    "        fastmri=test_sampling_pattern(fastmri_mask_x16, model, vg), \n",
    "        center=test_sampling_pattern(zm, model, vg),\n",
    "    )\n",
    "    # print(dice_fold_scores)\n",
    "fold_scores = [{k:[vv for vv in v] for k,v in dv.items()} for dv in dice_fold_scores.values()]\n",
    "with open('unet_fold_scores.pkl', mode='wb') as f: pickle.dump(fold_scores, f)"
   ]
  },
  {
   "cell_type": "code",
   "execution_count": 30,
   "metadata": {},
   "outputs": [],
   "source": [
    "with open('unet_fold_scores.pkl', 'rb') as f: fold_scores = pickle.load(f)"
   ]
  },
  {
   "cell_type": "code",
   "execution_count": 31,
   "metadata": {},
   "outputs": [
    {
     "name": "stdout",
     "output_type": "stream",
     "text": [
      "Ttest_relResult(statistic=-8.75682154635412, pvalue=0.0009373909746530295)\n"
     ]
    },
    {
     "data": {
      "text/html": [
       "<div>\n",
       "<style scoped>\n",
       "    .dataframe tbody tr th:only-of-type {\n",
       "        vertical-align: middle;\n",
       "    }\n",
       "\n",
       "    .dataframe tbody tr th {\n",
       "        vertical-align: top;\n",
       "    }\n",
       "\n",
       "    .dataframe thead th {\n",
       "        text-align: right;\n",
       "    }\n",
       "</style>\n",
       "<table border=\"1\" class=\"dataframe\">\n",
       "  <thead>\n",
       "    <tr style=\"text-align: right;\">\n",
       "      <th></th>\n",
       "      <th>fastmri</th>\n",
       "      <th>center</th>\n",
       "      <th>ours</th>\n",
       "    </tr>\n",
       "  </thead>\n",
       "  <tbody>\n",
       "    <tr>\n",
       "      <th>count</th>\n",
       "      <td>5.000000</td>\n",
       "      <td>5.000000</td>\n",
       "      <td>5.000000</td>\n",
       "    </tr>\n",
       "    <tr>\n",
       "      <th>mean</th>\n",
       "      <td>0.138078</td>\n",
       "      <td>0.137798</td>\n",
       "      <td>0.139531</td>\n",
       "    </tr>\n",
       "    <tr>\n",
       "      <th>std</th>\n",
       "      <td>0.002793</td>\n",
       "      <td>0.002690</td>\n",
       "      <td>0.003110</td>\n",
       "    </tr>\n",
       "    <tr>\n",
       "      <th>min</th>\n",
       "      <td>0.134881</td>\n",
       "      <td>0.134584</td>\n",
       "      <td>0.135951</td>\n",
       "    </tr>\n",
       "    <tr>\n",
       "      <th>25%</th>\n",
       "      <td>0.135619</td>\n",
       "      <td>0.135471</td>\n",
       "      <td>0.136787</td>\n",
       "    </tr>\n",
       "    <tr>\n",
       "      <th>50%</th>\n",
       "      <td>0.138934</td>\n",
       "      <td>0.138679</td>\n",
       "      <td>0.140430</td>\n",
       "    </tr>\n",
       "    <tr>\n",
       "      <th>75%</th>\n",
       "      <td>0.139318</td>\n",
       "      <td>0.139242</td>\n",
       "      <td>0.141057</td>\n",
       "    </tr>\n",
       "    <tr>\n",
       "      <th>max</th>\n",
       "      <td>0.141638</td>\n",
       "      <td>0.141013</td>\n",
       "      <td>0.143430</td>\n",
       "    </tr>\n",
       "  </tbody>\n",
       "</table>\n",
       "</div>"
      ],
      "text/plain": [
       "        fastmri    center      ours\n",
       "count  5.000000  5.000000  5.000000\n",
       "mean   0.138078  0.137798  0.139531\n",
       "std    0.002793  0.002690  0.003110\n",
       "min    0.134881  0.134584  0.135951\n",
       "25%    0.135619  0.135471  0.136787\n",
       "50%    0.138934  0.138679  0.140430\n",
       "75%    0.139318  0.139242  0.141057\n",
       "max    0.141638  0.141013  0.143430"
      ]
     },
     "execution_count": 31,
     "metadata": {},
     "output_type": "execute_result"
    }
   ],
   "source": [
    "import scipy\n",
    "\n",
    "df_dice = pd.DataFrame.from_dict({\n",
    "    'fastmri': [np.mean(v['fastmri']) for v in fold_scores],\n",
    "    'center': [np.mean(v['center']) for v in fold_scores],\n",
    "    'ours': [np.mean(v['ours']) for v in fold_scores]\n",
    "})\n",
    "print(scipy.stats.ttest_rel(df_dice.center, df_dice.ours))\n",
    "df_dice.describe()"
   ]
  },
  {
   "cell_type": "markdown",
   "metadata": {},
   "source": [
    "# 5-fold validation x8"
   ]
  },
  {
   "cell_type": "code",
   "execution_count": 32,
   "metadata": {
    "collapsed": true,
    "jupyter": {
     "outputs_hidden": true
    }
   },
   "outputs": [
    {
     "data": {
      "application/vnd.jupyter.widget-view+json": {
       "model_id": "830f56aab116461a8917ba4e1457961c",
       "version_major": 2,
       "version_minor": 0
      },
      "text/plain": [
       "  0%|          | 0/32 [00:00<?, ?it/s]"
      ]
     },
     "metadata": {},
     "output_type": "display_data"
    },
    {
     "data": {
      "application/vnd.jupyter.widget-view+json": {
       "model_id": "c3a846e746dd4fcabe82c8074b3f6291",
       "version_major": 2,
       "version_minor": 0
      },
      "text/plain": [
       "  0%|          | 0/25 [00:00<?, ?it/s]"
      ]
     },
     "metadata": {},
     "output_type": "display_data"
    },
    {
     "data": {
      "application/vnd.jupyter.widget-view+json": {
       "model_id": "3061235365834781a12de0b40b3a551b",
       "version_major": 2,
       "version_minor": 0
      },
      "text/plain": [
       "  0%|          | 0/25 [00:00<?, ?it/s]"
      ]
     },
     "metadata": {},
     "output_type": "display_data"
    },
    {
     "data": {
      "application/vnd.jupyter.widget-view+json": {
       "model_id": "c51539ed653e4e888e8b407fdf5ce451",
       "version_major": 2,
       "version_minor": 0
      },
      "text/plain": [
       "  0%|          | 0/25 [00:00<?, ?it/s]"
      ]
     },
     "metadata": {},
     "output_type": "display_data"
    },
    {
     "data": {
      "application/vnd.jupyter.widget-view+json": {
       "model_id": "00fd2379363b40dca637b64bc9768eb3",
       "version_major": 2,
       "version_minor": 0
      },
      "text/plain": [
       "  0%|          | 0/32 [00:00<?, ?it/s]"
      ]
     },
     "metadata": {},
     "output_type": "display_data"
    },
    {
     "data": {
      "application/vnd.jupyter.widget-view+json": {
       "model_id": "ae338556cf11435c8d7f17fb11810403",
       "version_major": 2,
       "version_minor": 0
      },
      "text/plain": [
       "  0%|          | 0/25 [00:00<?, ?it/s]"
      ]
     },
     "metadata": {},
     "output_type": "display_data"
    },
    {
     "data": {
      "application/vnd.jupyter.widget-view+json": {
       "model_id": "38e3eb14e7d14e29b3a206d75624ea0e",
       "version_major": 2,
       "version_minor": 0
      },
      "text/plain": [
       "  0%|          | 0/25 [00:00<?, ?it/s]"
      ]
     },
     "metadata": {},
     "output_type": "display_data"
    },
    {
     "data": {
      "application/vnd.jupyter.widget-view+json": {
       "model_id": "08e833359dab4c54adaf3fc57215d986",
       "version_major": 2,
       "version_minor": 0
      },
      "text/plain": [
       "  0%|          | 0/25 [00:00<?, ?it/s]"
      ]
     },
     "metadata": {},
     "output_type": "display_data"
    },
    {
     "data": {
      "application/vnd.jupyter.widget-view+json": {
       "model_id": "129c44c3fe1e4969b68f3e3786ac1d8e",
       "version_major": 2,
       "version_minor": 0
      },
      "text/plain": [
       "  0%|          | 0/32 [00:00<?, ?it/s]"
      ]
     },
     "metadata": {},
     "output_type": "display_data"
    },
    {
     "data": {
      "application/vnd.jupyter.widget-view+json": {
       "model_id": "40e47b3f9bf94232a654535f43234fe6",
       "version_major": 2,
       "version_minor": 0
      },
      "text/plain": [
       "  0%|          | 0/24 [00:00<?, ?it/s]"
      ]
     },
     "metadata": {},
     "output_type": "display_data"
    },
    {
     "data": {
      "application/vnd.jupyter.widget-view+json": {
       "model_id": "4d3513afe61c418c834019f57945e692",
       "version_major": 2,
       "version_minor": 0
      },
      "text/plain": [
       "  0%|          | 0/24 [00:00<?, ?it/s]"
      ]
     },
     "metadata": {},
     "output_type": "display_data"
    },
    {
     "data": {
      "application/vnd.jupyter.widget-view+json": {
       "model_id": "20ba6ea4b1374cb48c230cbca9d8f88d",
       "version_major": 2,
       "version_minor": 0
      },
      "text/plain": [
       "  0%|          | 0/24 [00:00<?, ?it/s]"
      ]
     },
     "metadata": {},
     "output_type": "display_data"
    },
    {
     "data": {
      "application/vnd.jupyter.widget-view+json": {
       "model_id": "b4288ccdb8034c999721459a49b94cd9",
       "version_major": 2,
       "version_minor": 0
      },
      "text/plain": [
       "  0%|          | 0/32 [00:00<?, ?it/s]"
      ]
     },
     "metadata": {},
     "output_type": "display_data"
    },
    {
     "data": {
      "application/vnd.jupyter.widget-view+json": {
       "model_id": "c7c46ee4913246c7870bf3a52ae13816",
       "version_major": 2,
       "version_minor": 0
      },
      "text/plain": [
       "  0%|          | 0/24 [00:00<?, ?it/s]"
      ]
     },
     "metadata": {},
     "output_type": "display_data"
    },
    {
     "data": {
      "application/vnd.jupyter.widget-view+json": {
       "model_id": "18e7cef87d224d9b800b0db6f2493e6d",
       "version_major": 2,
       "version_minor": 0
      },
      "text/plain": [
       "  0%|          | 0/24 [00:00<?, ?it/s]"
      ]
     },
     "metadata": {},
     "output_type": "display_data"
    },
    {
     "data": {
      "application/vnd.jupyter.widget-view+json": {
       "model_id": "ac90732e49c94591afd22370ad8cf610",
       "version_major": 2,
       "version_minor": 0
      },
      "text/plain": [
       "  0%|          | 0/24 [00:00<?, ?it/s]"
      ]
     },
     "metadata": {},
     "output_type": "display_data"
    },
    {
     "data": {
      "application/vnd.jupyter.widget-view+json": {
       "model_id": "c3721250db9349e486b9f2a29acdda3e",
       "version_major": 2,
       "version_minor": 0
      },
      "text/plain": [
       "  0%|          | 0/32 [00:00<?, ?it/s]"
      ]
     },
     "metadata": {},
     "output_type": "display_data"
    },
    {
     "data": {
      "application/vnd.jupyter.widget-view+json": {
       "model_id": "3e21bee9526f431496f4f910c0a6a9bc",
       "version_major": 2,
       "version_minor": 0
      },
      "text/plain": [
       "  0%|          | 0/24 [00:00<?, ?it/s]"
      ]
     },
     "metadata": {},
     "output_type": "display_data"
    },
    {
     "data": {
      "application/vnd.jupyter.widget-view+json": {
       "model_id": "2c3882214a014e8aab6ded0223648cd8",
       "version_major": 2,
       "version_minor": 0
      },
      "text/plain": [
       "  0%|          | 0/24 [00:00<?, ?it/s]"
      ]
     },
     "metadata": {},
     "output_type": "display_data"
    },
    {
     "data": {
      "application/vnd.jupyter.widget-view+json": {
       "model_id": "d9c0731a14304f0092d952877eded243",
       "version_major": 2,
       "version_minor": 0
      },
      "text/plain": [
       "  0%|          | 0/24 [00:00<?, ?it/s]"
      ]
     },
     "metadata": {},
     "output_type": "display_data"
    }
   ],
   "source": [
    "from collections import defaultdict\n",
    "from sklearn.model_selection import KFold\n",
    "\n",
    "fastmri_mask_x16 = torch.tensor(EquispacedMaskFunc([0.04], [8])((256, 256))[0]).to(device).float()\n",
    "zm = torch.zeros(256).to(device).float()\n",
    "zm[256//2 - int(32)//2 : 256//2 + int(32)//2] = 1\n",
    "fm = torch.ones(256).to(device).float()\n",
    "\n",
    "dice_fold_scores = defaultdict(dict)\n",
    "\n",
    "for i, (train_id, val_id) in enumerate(KFold(shuffle=False).split(range(len(train_dataset)))):\n",
    "    td = torch.utils.data.Subset(train_dataset, train_id)\n",
    "    vd = torch.utils.data.Subset(train_dataset, val_id)\n",
    "    tg = torch.utils.data.DataLoader(td, batch_size=len(td), shuffle=True)\n",
    "    vg = torch.utils.data.DataLoader(vd, batch_size=len(vd), shuffle=False)\n",
    "    w_list = train_sampling_pattern(tg, model, n=32)\n",
    "    dice_fold_scores[i] = dict(\n",
    "        ours=test_sampling_pattern(w_list[30], model, vg),\n",
    "        fastmri=test_sampling_pattern(fastmri_mask_x16, model, vg), \n",
    "        center=test_sampling_pattern(zm, model, vg),\n",
    "    )\n",
    "fold_scores = [{k:[vv for vv in v] for k,v in dv.items()} for dv in dice_fold_scores.values()]\n",
    "with open('unet_fold_scores_x8.pkl', mode='wb') as f: pickle.dump(fold_scores, f)"
   ]
  },
  {
   "cell_type": "code",
   "execution_count": 33,
   "metadata": {},
   "outputs": [],
   "source": [
    "with open('unet_fold_scores_x8.pkl', 'rb') as f: fold_scores = pickle.load(f)"
   ]
  },
  {
   "cell_type": "code",
   "execution_count": 34,
   "metadata": {},
   "outputs": [
    {
     "name": "stdout",
     "output_type": "stream",
     "text": [
      "Ttest_relResult(statistic=-10.901946033340462, pvalue=0.0004019380448227102)\n"
     ]
    },
    {
     "data": {
      "text/html": [
       "<div>\n",
       "<style scoped>\n",
       "    .dataframe tbody tr th:only-of-type {\n",
       "        vertical-align: middle;\n",
       "    }\n",
       "\n",
       "    .dataframe tbody tr th {\n",
       "        vertical-align: top;\n",
       "    }\n",
       "\n",
       "    .dataframe thead th {\n",
       "        text-align: right;\n",
       "    }\n",
       "</style>\n",
       "<table border=\"1\" class=\"dataframe\">\n",
       "  <thead>\n",
       "    <tr style=\"text-align: right;\">\n",
       "      <th></th>\n",
       "      <th>fastmri</th>\n",
       "      <th>center</th>\n",
       "      <th>ours</th>\n",
       "    </tr>\n",
       "  </thead>\n",
       "  <tbody>\n",
       "    <tr>\n",
       "      <th>count</th>\n",
       "      <td>5.000000</td>\n",
       "      <td>5.000000</td>\n",
       "      <td>5.000000</td>\n",
       "    </tr>\n",
       "    <tr>\n",
       "      <th>mean</th>\n",
       "      <td>0.138066</td>\n",
       "      <td>0.137857</td>\n",
       "      <td>0.139595</td>\n",
       "    </tr>\n",
       "    <tr>\n",
       "      <th>std</th>\n",
       "      <td>0.002724</td>\n",
       "      <td>0.002769</td>\n",
       "      <td>0.003070</td>\n",
       "    </tr>\n",
       "    <tr>\n",
       "      <th>min</th>\n",
       "      <td>0.134999</td>\n",
       "      <td>0.134471</td>\n",
       "      <td>0.136022</td>\n",
       "    </tr>\n",
       "    <tr>\n",
       "      <th>25%</th>\n",
       "      <td>0.135600</td>\n",
       "      <td>0.135524</td>\n",
       "      <td>0.136940</td>\n",
       "    </tr>\n",
       "    <tr>\n",
       "      <th>50%</th>\n",
       "      <td>0.138867</td>\n",
       "      <td>0.138808</td>\n",
       "      <td>0.140429</td>\n",
       "    </tr>\n",
       "    <tr>\n",
       "      <th>75%</th>\n",
       "      <td>0.139351</td>\n",
       "      <td>0.139376</td>\n",
       "      <td>0.141144</td>\n",
       "    </tr>\n",
       "    <tr>\n",
       "      <th>max</th>\n",
       "      <td>0.141515</td>\n",
       "      <td>0.141107</td>\n",
       "      <td>0.143440</td>\n",
       "    </tr>\n",
       "  </tbody>\n",
       "</table>\n",
       "</div>"
      ],
      "text/plain": [
       "        fastmri    center      ours\n",
       "count  5.000000  5.000000  5.000000\n",
       "mean   0.138066  0.137857  0.139595\n",
       "std    0.002724  0.002769  0.003070\n",
       "min    0.134999  0.134471  0.136022\n",
       "25%    0.135600  0.135524  0.136940\n",
       "50%    0.138867  0.138808  0.140429\n",
       "75%    0.139351  0.139376  0.141144\n",
       "max    0.141515  0.141107  0.143440"
      ]
     },
     "execution_count": 34,
     "metadata": {},
     "output_type": "execute_result"
    }
   ],
   "source": [
    "import scipy\n",
    "\n",
    "df_dice = pd.DataFrame.from_dict({\n",
    "    'fastmri': [np.mean(v['fastmri']) for v in fold_scores],\n",
    "    'center': [np.mean(v['center']) for v in fold_scores],\n",
    "    'ours': [np.mean(v['ours']) for v in fold_scores]\n",
    "})\n",
    "print(scipy.stats.ttest_rel(df_dice.center, df_dice.ours))\n",
    "df_dice.describe()"
   ]
  },
  {
   "cell_type": "markdown",
   "metadata": {},
   "source": [
    "# Training on full train"
   ]
  },
  {
   "cell_type": "code",
   "execution_count": 35,
   "metadata": {},
   "outputs": [
    {
     "data": {
      "application/vnd.jupyter.widget-view+json": {
       "model_id": "21369579129a4aa1a2a9a45ef9b2168d",
       "version_major": 2,
       "version_minor": 0
      },
      "text/plain": [
       "  0%|          | 0/32 [00:00<?, ?it/s]"
      ]
     },
     "metadata": {},
     "output_type": "display_data"
    },
    {
     "ename": "KeyboardInterrupt",
     "evalue": "",
     "output_type": "error",
     "traceback": [
      "\u001b[0;31m---------------------------------------------------------------------------\u001b[0m",
      "\u001b[0;31mKeyboardInterrupt\u001b[0m                         Traceback (most recent call last)",
      "Cell \u001b[0;32mIn[35], line 1\u001b[0m\n\u001b[0;32m----> 1\u001b[0m w_list \u001b[38;5;241m=\u001b[39m \u001b[43mtrain_sampling_pattern\u001b[49m\u001b[43m(\u001b[49m\u001b[43mtrain_generator\u001b[49m\u001b[43m,\u001b[49m\u001b[43m \u001b[49m\u001b[43mmodel\u001b[49m\u001b[43m,\u001b[49m\u001b[43m \u001b[49m\u001b[43mn\u001b[49m\u001b[38;5;241;43m=\u001b[39;49m\u001b[38;5;241;43m32\u001b[39;49m\u001b[43m)\u001b[49m\n\u001b[1;32m      2\u001b[0m torch\u001b[38;5;241m.\u001b[39msave(w_list, \u001b[38;5;124m'\u001b[39m\u001b[38;5;124msampling_2d_igs_unetTrain.pt\u001b[39m\u001b[38;5;124m'\u001b[39m)\n\u001b[1;32m      3\u001b[0m torch\u001b[38;5;241m.\u001b[39msave(model\u001b[38;5;241m.\u001b[39mstate_dict(),\u001b[38;5;124m'\u001b[39m\u001b[38;5;124munet-acdc.pt\u001b[39m\u001b[38;5;124m'\u001b[39m)\n",
      "Cell \u001b[0;32mIn[28], line 75\u001b[0m, in \u001b[0;36mtrain_sampling_pattern\u001b[0;34m(train_generator, model, n)\u001b[0m\n\u001b[1;32m     73\u001b[0m     pm \u001b[38;5;241m=\u001b[39m model((recs \u001b[38;5;241m-\u001b[39m bbmean) \u001b[38;5;241m/\u001b[39m (bbstd \u001b[38;5;241m+\u001b[39m \u001b[38;5;241m1e-11\u001b[39m))\n\u001b[1;32m     74\u001b[0m     loss \u001b[38;5;241m=\u001b[39m dice_loss(bbmasks\u001b[38;5;241m.\u001b[39mlong(), pm)\n\u001b[0;32m---> 75\u001b[0m     \u001b[43mloss\u001b[49m\u001b[38;5;241;43m.\u001b[39;49m\u001b[43mbackward\u001b[49m\u001b[43m(\u001b[49m\u001b[43m)\u001b[49m\n\u001b[1;32m     76\u001b[0m \u001b[38;5;28;01mfor\u001b[39;00m i \u001b[38;5;129;01min\u001b[39;00m torch\u001b[38;5;241m.\u001b[39mtopk(w\u001b[38;5;241m.\u001b[39mgrad, \u001b[38;5;241m256\u001b[39m, largest\u001b[38;5;241m=\u001b[39m\u001b[38;5;28;01mFalse\u001b[39;00m)\u001b[38;5;241m.\u001b[39mindices:\n\u001b[1;32m     77\u001b[0m     \u001b[38;5;28;01mif\u001b[39;00m w[i] \u001b[38;5;241m==\u001b[39m \u001b[38;5;241m0\u001b[39m: \n",
      "File \u001b[0;32m~/anaconda3/envs/wm/lib/python3.10/site-packages/torch/_tensor.py:487\u001b[0m, in \u001b[0;36mTensor.backward\u001b[0;34m(self, gradient, retain_graph, create_graph, inputs)\u001b[0m\n\u001b[1;32m    477\u001b[0m \u001b[38;5;28;01mif\u001b[39;00m has_torch_function_unary(\u001b[38;5;28mself\u001b[39m):\n\u001b[1;32m    478\u001b[0m     \u001b[38;5;28;01mreturn\u001b[39;00m handle_torch_function(\n\u001b[1;32m    479\u001b[0m         Tensor\u001b[38;5;241m.\u001b[39mbackward,\n\u001b[1;32m    480\u001b[0m         (\u001b[38;5;28mself\u001b[39m,),\n\u001b[0;32m   (...)\u001b[0m\n\u001b[1;32m    485\u001b[0m         inputs\u001b[38;5;241m=\u001b[39minputs,\n\u001b[1;32m    486\u001b[0m     )\n\u001b[0;32m--> 487\u001b[0m \u001b[43mtorch\u001b[49m\u001b[38;5;241;43m.\u001b[39;49m\u001b[43mautograd\u001b[49m\u001b[38;5;241;43m.\u001b[39;49m\u001b[43mbackward\u001b[49m\u001b[43m(\u001b[49m\n\u001b[1;32m    488\u001b[0m \u001b[43m    \u001b[49m\u001b[38;5;28;43mself\u001b[39;49m\u001b[43m,\u001b[49m\u001b[43m \u001b[49m\u001b[43mgradient\u001b[49m\u001b[43m,\u001b[49m\u001b[43m \u001b[49m\u001b[43mretain_graph\u001b[49m\u001b[43m,\u001b[49m\u001b[43m \u001b[49m\u001b[43mcreate_graph\u001b[49m\u001b[43m,\u001b[49m\u001b[43m \u001b[49m\u001b[43minputs\u001b[49m\u001b[38;5;241;43m=\u001b[39;49m\u001b[43minputs\u001b[49m\n\u001b[1;32m    489\u001b[0m \u001b[43m\u001b[49m\u001b[43m)\u001b[49m\n",
      "File \u001b[0;32m~/anaconda3/envs/wm/lib/python3.10/site-packages/torch/autograd/__init__.py:200\u001b[0m, in \u001b[0;36mbackward\u001b[0;34m(tensors, grad_tensors, retain_graph, create_graph, grad_variables, inputs)\u001b[0m\n\u001b[1;32m    195\u001b[0m     retain_graph \u001b[38;5;241m=\u001b[39m create_graph\n\u001b[1;32m    197\u001b[0m \u001b[38;5;66;03m# The reason we repeat same the comment below is that\u001b[39;00m\n\u001b[1;32m    198\u001b[0m \u001b[38;5;66;03m# some Python versions print out the first line of a multi-line function\u001b[39;00m\n\u001b[1;32m    199\u001b[0m \u001b[38;5;66;03m# calls in the traceback and some print out the last line\u001b[39;00m\n\u001b[0;32m--> 200\u001b[0m \u001b[43mVariable\u001b[49m\u001b[38;5;241;43m.\u001b[39;49m\u001b[43m_execution_engine\u001b[49m\u001b[38;5;241;43m.\u001b[39;49m\u001b[43mrun_backward\u001b[49m\u001b[43m(\u001b[49m\u001b[43m  \u001b[49m\u001b[38;5;66;43;03m# Calls into the C++ engine to run the backward pass\u001b[39;49;00m\n\u001b[1;32m    201\u001b[0m \u001b[43m    \u001b[49m\u001b[43mtensors\u001b[49m\u001b[43m,\u001b[49m\u001b[43m \u001b[49m\u001b[43mgrad_tensors_\u001b[49m\u001b[43m,\u001b[49m\u001b[43m \u001b[49m\u001b[43mretain_graph\u001b[49m\u001b[43m,\u001b[49m\u001b[43m \u001b[49m\u001b[43mcreate_graph\u001b[49m\u001b[43m,\u001b[49m\u001b[43m \u001b[49m\u001b[43minputs\u001b[49m\u001b[43m,\u001b[49m\n\u001b[1;32m    202\u001b[0m \u001b[43m    \u001b[49m\u001b[43mallow_unreachable\u001b[49m\u001b[38;5;241;43m=\u001b[39;49m\u001b[38;5;28;43;01mTrue\u001b[39;49;00m\u001b[43m,\u001b[49m\u001b[43m \u001b[49m\u001b[43maccumulate_grad\u001b[49m\u001b[38;5;241;43m=\u001b[39;49m\u001b[38;5;28;43;01mTrue\u001b[39;49;00m\u001b[43m)\u001b[49m\n",
      "\u001b[0;31mKeyboardInterrupt\u001b[0m: "
     ]
    }
   ],
   "source": [
    "w_list = train_sampling_pattern(train_generator, model, n=32)\n",
    "torch.save(w_list, 'sampling_2d_igs_unetTrain.pt')\n",
    "torch.save(model.state_dict(),'unet-acdc.pt')"
   ]
  },
  {
   "cell_type": "code",
   "execution_count": 38,
   "metadata": {},
   "outputs": [],
   "source": [
    "torch.save(w_list, 'sampling_igs.pt')"
   ]
  },
  {
   "cell_type": "code",
   "execution_count": 48,
   "metadata": {},
   "outputs": [],
   "source": [
    "fastmri_mask_x16 = torch.tensor(EquispacedMaskFunc([0.04], [8])((256, 256))[0]).to(device).float()\n",
    "zm = torch.zeros(256).to(device).float()\n",
    "zm[256//2 - int(32)//2 : 256//2 + int(32)//2] = 1\n",
    "fm = torch.ones(256).to(device).float()\n",
    "w = torch.load('sampling_igs.pt')[30]"
   ]
  },
  {
   "cell_type": "code",
   "execution_count": 49,
   "metadata": {},
   "outputs": [
    {
     "data": {
      "text/plain": [
       "(tensor(32., device='cuda:0'),\n",
       " tensor(32., device='cuda:0'),\n",
       " tensor(32., device='cuda:0'))"
      ]
     },
     "execution_count": 49,
     "metadata": {},
     "output_type": "execute_result"
    }
   ],
   "source": [
    "fastmri_mask_x16.sum(), zm.sum(), w.sum()"
   ]
  },
  {
   "cell_type": "code",
   "execution_count": 50,
   "metadata": {},
   "outputs": [
    {
     "data": {
      "application/vnd.jupyter.widget-view+json": {
       "model_id": "583d3fb987224453a97875669339c070",
       "version_major": 2,
       "version_minor": 0
      },
      "text/plain": [
       "HBox(children=(HTML(value=''), FloatProgress(value=0.0, max=16.0), HTML(value='')))"
      ]
     },
     "metadata": {},
     "output_type": "display_data"
    },
    {
     "name": "stdout",
     "output_type": "stream",
     "text": [
      "\n"
     ]
    },
    {
     "data": {
      "application/vnd.jupyter.widget-view+json": {
       "model_id": "ddd1c1ef3bc6458b8556bee0c5531e2f",
       "version_major": 2,
       "version_minor": 0
      },
      "text/plain": [
       "HBox(children=(HTML(value=''), FloatProgress(value=0.0, max=16.0), HTML(value='')))"
      ]
     },
     "metadata": {},
     "output_type": "display_data"
    },
    {
     "name": "stdout",
     "output_type": "stream",
     "text": [
      "\n"
     ]
    },
    {
     "data": {
      "application/vnd.jupyter.widget-view+json": {
       "model_id": "7db1184712c64ba193717fbedc8473ea",
       "version_major": 2,
       "version_minor": 0
      },
      "text/plain": [
       "HBox(children=(HTML(value=''), FloatProgress(value=0.0, max=16.0), HTML(value='')))"
      ]
     },
     "metadata": {},
     "output_type": "display_data"
    },
    {
     "name": "stdout",
     "output_type": "stream",
     "text": [
      "\n"
     ]
    }
   ],
   "source": [
    "dice_scores = dict(\n",
    "    ours=test_sampling_pattern(w, model, val_generator),\n",
    "    fastmri=test_sampling_pattern(fastmri_mask_x16, model, val_generator), \n",
    "    center=test_sampling_pattern(zm, model, val_generator),\n",
    ")"
   ]
  },
  {
   "cell_type": "code",
   "execution_count": 51,
   "metadata": {},
   "outputs": [
    {
     "data": {
      "text/html": [
       "<div>\n",
       "<style scoped>\n",
       "    .dataframe tbody tr th:only-of-type {\n",
       "        vertical-align: middle;\n",
       "    }\n",
       "\n",
       "    .dataframe tbody tr th {\n",
       "        vertical-align: top;\n",
       "    }\n",
       "\n",
       "    .dataframe thead th {\n",
       "        text-align: right;\n",
       "    }\n",
       "</style>\n",
       "<table border=\"1\" class=\"dataframe\">\n",
       "  <thead>\n",
       "    <tr style=\"text-align: right;\">\n",
       "      <th></th>\n",
       "      <th>ours</th>\n",
       "      <th>fastmri</th>\n",
       "      <th>center</th>\n",
       "    </tr>\n",
       "  </thead>\n",
       "  <tbody>\n",
       "    <tr>\n",
       "      <th>count</th>\n",
       "      <td>512.000000</td>\n",
       "      <td>512.000000</td>\n",
       "      <td>512.000000</td>\n",
       "    </tr>\n",
       "    <tr>\n",
       "      <th>mean</th>\n",
       "      <td>0.863131</td>\n",
       "      <td>0.701489</td>\n",
       "      <td>0.855855</td>\n",
       "    </tr>\n",
       "    <tr>\n",
       "      <th>std</th>\n",
       "      <td>0.021480</td>\n",
       "      <td>0.044555</td>\n",
       "      <td>0.021969</td>\n",
       "    </tr>\n",
       "    <tr>\n",
       "      <th>min</th>\n",
       "      <td>0.829327</td>\n",
       "      <td>0.616531</td>\n",
       "      <td>0.810766</td>\n",
       "    </tr>\n",
       "    <tr>\n",
       "      <th>25%</th>\n",
       "      <td>0.845521</td>\n",
       "      <td>0.678061</td>\n",
       "      <td>0.839045</td>\n",
       "    </tr>\n",
       "    <tr>\n",
       "      <th>50%</th>\n",
       "      <td>0.862863</td>\n",
       "      <td>0.697734</td>\n",
       "      <td>0.857729</td>\n",
       "    </tr>\n",
       "    <tr>\n",
       "      <th>75%</th>\n",
       "      <td>0.875512</td>\n",
       "      <td>0.726095</td>\n",
       "      <td>0.866249</td>\n",
       "    </tr>\n",
       "    <tr>\n",
       "      <th>max</th>\n",
       "      <td>0.902631</td>\n",
       "      <td>0.780894</td>\n",
       "      <td>0.897958</td>\n",
       "    </tr>\n",
       "  </tbody>\n",
       "</table>\n",
       "</div>"
      ],
      "text/plain": [
       "             ours     fastmri      center\n",
       "count  512.000000  512.000000  512.000000\n",
       "mean     0.863131    0.701489    0.855855\n",
       "std      0.021480    0.044555    0.021969\n",
       "min      0.829327    0.616531    0.810766\n",
       "25%      0.845521    0.678061    0.839045\n",
       "50%      0.862863    0.697734    0.857729\n",
       "75%      0.875512    0.726095    0.866249\n",
       "max      0.902631    0.780894    0.897958"
      ]
     },
     "execution_count": 51,
     "metadata": {},
     "output_type": "execute_result"
    }
   ],
   "source": [
    "df_dice = pd.DataFrame.from_dict(dice_scores)\n",
    "df_dice.describe()"
   ]
  },
  {
   "cell_type": "markdown",
   "metadata": {},
   "source": [
    "# Eval dice classes scores"
   ]
  },
  {
   "cell_type": "code",
   "execution_count": 52,
   "metadata": {},
   "outputs": [],
   "source": [
    "fastmri_mask_x16 = torch.tensor(EquispacedMaskFunc([0.04], [8])((256, 256))[0]).to(device).float()\n",
    "zm = torch.zeros(256).to(device).float()\n",
    "zm[256//2 - int(32)//2 : 256//2 + int(32)//2] = 1\n",
    "fm = torch.ones(256).to(device).float()\n",
    "w = torch.load('sampling_igs.pt')[30]"
   ]
  },
  {
   "cell_type": "code",
   "execution_count": 53,
   "metadata": {},
   "outputs": [
    {
     "data": {
      "application/vnd.jupyter.widget-view+json": {
       "model_id": "9d3fed8edf0f43ba878d7245589e5a35",
       "version_major": 2,
       "version_minor": 0
      },
      "text/plain": [
       "HBox(children=(HTML(value=''), FloatProgress(value=0.0, max=514.0), HTML(value='')))"
      ]
     },
     "metadata": {},
     "output_type": "display_data"
    },
    {
     "name": "stdout",
     "output_type": "stream",
     "text": [
      "\n"
     ]
    },
    {
     "data": {
      "application/vnd.jupyter.widget-view+json": {
       "model_id": "cae2eb28d92944168047929b10c5861c",
       "version_major": 2,
       "version_minor": 0
      },
      "text/plain": [
       "HBox(children=(HTML(value=''), FloatProgress(value=0.0, max=514.0), HTML(value='')))"
      ]
     },
     "metadata": {},
     "output_type": "display_data"
    },
    {
     "name": "stdout",
     "output_type": "stream",
     "text": [
      "\n"
     ]
    },
    {
     "data": {
      "application/vnd.jupyter.widget-view+json": {
       "model_id": "b41b73b03eec43448dc9ba55ac4dbf35",
       "version_major": 2,
       "version_minor": 0
      },
      "text/plain": [
       "HBox(children=(HTML(value=''), FloatProgress(value=0.0, max=514.0), HTML(value='')))"
      ]
     },
     "metadata": {},
     "output_type": "display_data"
    },
    {
     "name": "stdout",
     "output_type": "stream",
     "text": [
      "\n"
     ]
    },
    {
     "data": {
      "application/vnd.jupyter.widget-view+json": {
       "model_id": "9c34fafdd03e47d295671851ff1fa58b",
       "version_major": 2,
       "version_minor": 0
      },
      "text/plain": [
       "HBox(children=(HTML(value=''), FloatProgress(value=0.0, max=514.0), HTML(value='')))"
      ]
     },
     "metadata": {},
     "output_type": "display_data"
    },
    {
     "name": "stdout",
     "output_type": "stream",
     "text": [
      "\n"
     ]
    }
   ],
   "source": [
    "dice_class_scores = dict(\n",
    "    fastmri=test_on_classes_sampling_pattern(fastmri_mask_x16, model, val_generator), \n",
    "    center=test_on_classes_sampling_pattern(zm, model, val_generator),\n",
    "    ours=test_on_classes_sampling_pattern(w, model, val_generator),\n",
    "    full=test_on_classes_sampling_pattern(fm, model, val_generator),\n",
    ")"
   ]
  },
  {
   "cell_type": "code",
   "execution_count": 54,
   "metadata": {},
   "outputs": [
    {
     "name": "stdout",
     "output_type": "stream",
     "text": [
      "############## fastmri ##############\n",
      "        RV cavity      LV myo   LV cavity\n",
      "count  514.000000  514.000000  514.000000\n",
      "mean     0.381188    0.387448    0.593597\n",
      "std      0.371435    0.232496    0.340607\n",
      "min      0.000000    0.000000    0.000000\n",
      "25%      0.000000    0.224808    0.412083\n",
      "50%      0.333635    0.438446    0.743590\n",
      "75%      0.771185    0.571852    0.858127\n",
      "max      0.939749    0.769974    0.951340\n",
      "############## center ##############\n",
      "        RV cavity      LV myo   LV cavity\n",
      "count  514.000000  514.000000  514.000000\n",
      "mean     0.580750    0.669203    0.795335\n",
      "std      0.386560    0.228259    0.279761\n",
      "min      0.000000    0.000000    0.000000\n",
      "25%      0.002825    0.622258    0.829225\n",
      "50%      0.808927    0.756548    0.914425\n",
      "75%      0.894388    0.816411    0.943239\n",
      "max      0.965830    0.907721    0.974557\n",
      "############## ours ##############\n",
      "        RV cavity      LV myo   LV cavity\n",
      "count  514.000000  514.000000  514.000000\n",
      "mean     0.595818    0.689580    0.805002\n",
      "std      0.389538    0.222687    0.274500\n",
      "min      0.000000    0.000000    0.000000\n",
      "25%      0.000000    0.651545    0.841097\n",
      "50%      0.823042    0.776837    0.918835\n",
      "75%      0.902572    0.828250    0.946079\n",
      "max      0.968380    0.913176    0.976993\n",
      "############## full ##############\n",
      "        RV cavity      LV myo   LV cavity\n",
      "count  514.000000  514.000000  514.000000\n",
      "mean     0.713786    0.817886    0.864896\n",
      "std      0.363874    0.199716    0.247265\n",
      "min      0.000000    0.000000    0.000000\n",
      "25%      0.654390    0.831038    0.911014\n",
      "50%      0.910236    0.883911    0.952855\n",
      "75%      0.949416    0.915312    0.970768\n",
      "max      0.985018    0.956050    0.989652\n"
     ]
    }
   ],
   "source": [
    "class_map = {0: 'RV cavity', 1: 'LV myo', 2: 'LV cavity'}\n",
    "for name in dice_class_scores.keys():\n",
    "    arr = np.array(dice_class_scores[name]).T\n",
    "    print('##############', name, '##############')\n",
    "    print(pd.DataFrame.from_dict({class_map[i]:arr[i] for i in range(arr.shape[0])}).describe())"
   ]
  },
  {
   "cell_type": "code",
   "execution_count": 55,
   "metadata": {},
   "outputs": [
    {
     "data": {
      "application/vnd.jupyter.widget-view+json": {
       "model_id": "7260371f9ae54422afdf6040d57ffa2e",
       "version_major": 2,
       "version_minor": 0
      },
      "text/plain": [
       "HBox(children=(HTML(value=''), FloatProgress(value=0.0, max=514.0), HTML(value='')))"
      ]
     },
     "metadata": {},
     "output_type": "display_data"
    },
    {
     "name": "stdout",
     "output_type": "stream",
     "text": [
      "\n"
     ]
    },
    {
     "data": {
      "application/vnd.jupyter.widget-view+json": {
       "model_id": "826bb07cffd14012b0b59b084e44360c",
       "version_major": 2,
       "version_minor": 0
      },
      "text/plain": [
       "HBox(children=(HTML(value=''), FloatProgress(value=0.0, max=514.0), HTML(value='')))"
      ]
     },
     "metadata": {},
     "output_type": "display_data"
    },
    {
     "name": "stdout",
     "output_type": "stream",
     "text": [
      "\n"
     ]
    },
    {
     "data": {
      "application/vnd.jupyter.widget-view+json": {
       "model_id": "9690b6b206774788885b298287965cbf",
       "version_major": 2,
       "version_minor": 0
      },
      "text/plain": [
       "HBox(children=(HTML(value=''), FloatProgress(value=0.0, max=514.0), HTML(value='')))"
      ]
     },
     "metadata": {},
     "output_type": "display_data"
    },
    {
     "name": "stdout",
     "output_type": "stream",
     "text": [
      "\n"
     ]
    },
    {
     "data": {
      "application/vnd.jupyter.widget-view+json": {
       "model_id": "edcc4fba09b74125a83e5786c59e9901",
       "version_major": 2,
       "version_minor": 0
      },
      "text/plain": [
       "HBox(children=(HTML(value=''), FloatProgress(value=0.0, max=514.0), HTML(value='')))"
      ]
     },
     "metadata": {},
     "output_type": "display_data"
    },
    {
     "name": "stdout",
     "output_type": "stream",
     "text": [
      "\n",
      "############## fastmri ##############\n",
      "        RV cavity      LV myo   LV cavity\n",
      "count  514.000000  514.000000  514.000000\n",
      "mean     0.342371    0.334447    0.565903\n",
      "std      0.358415    0.214003    0.339937\n",
      "min      0.000000    0.000000    0.000000\n",
      "25%      0.000000    0.157670    0.282711\n",
      "50%      0.193719    0.364101    0.719919\n",
      "75%      0.742822    0.511418    0.832895\n",
      "max      0.922642    0.723350    0.937900\n",
      "############## center ##############\n",
      "        RV cavity      LV myo   LV cavity\n",
      "count  514.000000  514.000000  514.000000\n",
      "mean     0.464225    0.497252    0.693303\n",
      "std      0.380757    0.243481    0.328034\n",
      "min      0.000000    0.000000    0.000000\n",
      "25%      0.000000    0.377058    0.659942\n",
      "50%      0.581346    0.590786    0.851644\n",
      "75%      0.841381    0.672704    0.908577\n",
      "max      0.954875    0.844853    0.959712\n",
      "############## ours ##############\n",
      "        RV cavity      LV myo   LV cavity\n",
      "count  514.000000  514.000000  514.000000\n",
      "mean     0.500341    0.547661    0.715802\n",
      "std      0.389113    0.251689    0.318239\n",
      "min      0.000000    0.000000    0.000000\n",
      "25%      0.000000    0.419101    0.694286\n",
      "50%      0.681145    0.642445    0.860584\n",
      "75%      0.858499    0.733941    0.918777\n",
      "max      0.961106    0.861274    0.972850\n",
      "############## full ##############\n",
      "        RV cavity      LV myo   LV cavity\n",
      "count  514.000000  514.000000  514.000000\n",
      "mean     0.713786    0.817886    0.864896\n",
      "std      0.363874    0.199716    0.247265\n",
      "min      0.000000    0.000000    0.000000\n",
      "25%      0.654390    0.831038    0.911014\n",
      "50%      0.910236    0.883911    0.952855\n",
      "75%      0.949416    0.915312    0.970768\n",
      "max      0.985018    0.956050    0.989652\n"
     ]
    }
   ],
   "source": [
    "fastmri_mask_x16 = torch.tensor(EquispacedMaskFunc([0.04], [16])((256, 256))[0]).to(device).float()\n",
    "zm = torch.zeros(256).to(device).float()\n",
    "zm[256//2 - int(16)//2 : 256//2 + int(16)//2] = 1\n",
    "fm = torch.ones(256).to(device).float()\n",
    "w = torch.load('sampling_igs.pt')[14]\n",
    "\n",
    "dice_class_scores = dict(\n",
    "    fastmri=test_on_classes_sampling_pattern(fastmri_mask_x16, model, val_generator), \n",
    "    center=test_on_classes_sampling_pattern(zm, model, val_generator),\n",
    "    ours=test_on_classes_sampling_pattern(w, model, val_generator),\n",
    "    full=test_on_classes_sampling_pattern(fm, model, val_generator),\n",
    ")\n",
    "\n",
    "class_map = {0: 'RV cavity', 1: 'LV myo', 2: 'LV cavity'}\n",
    "for name in dice_class_scores.keys():\n",
    "    arr = np.array(dice_class_scores[name]).T\n",
    "    print('##############', name, '##############')\n",
    "    print(pd.DataFrame.from_dict({class_map[i]:arr[i] for i in range(arr.shape[0])}).describe())"
   ]
  },
  {
   "cell_type": "code",
   "execution_count": null,
   "metadata": {},
   "outputs": [],
   "source": []
  }
 ],
 "metadata": {
  "kernelspec": {
   "display_name": "Python 3",
   "language": "python",
   "name": "python3"
  },
  "language_info": {
   "codemirror_mode": {
    "name": "ipython",
    "version": 3
   },
   "file_extension": ".py",
   "mimetype": "text/x-python",
   "name": "python",
   "nbconvert_exporter": "python",
   "pygments_lexer": "ipython3",
   "version": "3.10.13"
  }
 },
 "nbformat": 4,
 "nbformat_minor": 4
}
